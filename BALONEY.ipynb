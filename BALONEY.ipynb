{
 "cells": [
  {
   "cell_type": "code",
   "execution_count": 1,
   "metadata": {
    "collapsed": true
   },
   "outputs": [],
   "source": [
    "import pandas as pd\n",
    "import os\n",
    "import logging\n",
    "import datetime\n",
    "import json\n",
    "import glob\n",
    "\n",
    "#logger = logging.getLogger()\n",
    "\n",
    "#for day_num in range(1, 32):\n",
    "#    path = os.path.join('/data/kinesis/', \"{:02d}/*/*\".format(day_num))\n",
    "#    day = datetime.date(year=2017, month=10, day=day_num)\n",
    "#    for idx, fname in enumerate(glob.iglob(path)):\n",
    "#        logger.info(\"{}: Working on {:,}\".format(day, idx))\n",
    "#        with open(fname, \"r\") as f:\n",
    "#            contents = f.read().decode(\"utf-8\")\n",
    "#        newsletter_traffic = []\n",
    "#        for bit in contents[1:-1].split('}{'):\n",
    "#            try:\n",
    "#                rec = json.loads(\"{\" + bit + \"}\")\n",
    "#            except ValueError as e:\n",
    "#                logger.warning(\"BAD JSON\")\n",
    "#                continue"
   ]
  },
  {
   "cell_type": "code",
   "execution_count": 2,
   "metadata": {},
   "outputs": [],
   "source": [
    "file = open('RawData/StreamToS3-5-2017-10-01-06-57-36-8215d2f6-bdf8-4c6c-aade-d9dafa7cb911', 'r')\n"
   ]
  },
  {
   "cell_type": "code",
   "execution_count": null,
   "metadata": {
    "collapsed": true
   },
   "outputs": [],
   "source": [
    "df = file.read()\n",
    "df"
   ]
  },
  {
   "cell_type": "code",
   "execution_count": null,
   "metadata": {
    "collapsed": true
   },
   "outputs": [],
   "source": [
    "df = df.replace('}{', '}\\n{')\n",
    "#for bit in df[1:-1].split('}{'):\n",
    "#    rec = json.loads('{' + bit + '}')\n",
    "    \n",
    "df"
   ]
  },
  {
   "cell_type": "code",
   "execution_count": null,
   "metadata": {
    "collapsed": true
   },
   "outputs": [],
   "source": [
    "df = df.splitlines()\n",
    "df"
   ]
  },
  {
   "cell_type": "code",
   "execution_count": null,
   "metadata": {
    "collapsed": true
   },
   "outputs": [],
   "source": [
    "json.loads('{' + df[1][1:-1] + '}')"
   ]
  },
  {
   "cell_type": "code",
   "execution_count": null,
   "metadata": {
    "collapsed": true
   },
   "outputs": [],
   "source": [
    "new_df = []\n",
    "for record in df:\n",
    "    rec = json.loads('{' + record[1:-1] + '}')\n",
    "    new_df.append(rec)\n",
    "\n",
    "new_df"
   ]
  },
  {
   "cell_type": "code",
   "execution_count": null,
   "metadata": {
    "collapsed": true
   },
   "outputs": [],
   "source": [
    "#pd.read_json(new_df, orient='records')\n",
    "tmp = pd.DataFrame(new_df)\n",
    "tmp"
   ]
  },
  {
   "cell_type": "code",
   "execution_count": null,
   "metadata": {
    "collapsed": true
   },
   "outputs": [],
   "source": []
  }
 ],
 "metadata": {
  "kernelspec": {
   "display_name": "Python 3",
   "language": "python",
   "name": "python3"
  },
  "language_info": {
   "codemirror_mode": {
    "name": "ipython",
    "version": 3
   },
   "file_extension": ".py",
   "mimetype": "text/x-python",
   "name": "python",
   "nbconvert_exporter": "python",
   "pygments_lexer": "ipython3",
   "version": "3.6.3"
  }
 },
 "nbformat": 4,
 "nbformat_minor": 2
}
