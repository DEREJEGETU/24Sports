{
 "cells": [
  {
   "cell_type": "code",
   "execution_count": 2,
   "metadata": {},
   "outputs": [
    {
     "data": {
      "text/html": [
       "\n",
       "    <div class=\"bk-root\">\n",
       "        <a href=\"https://bokeh.pydata.org\" target=\"_blank\" class=\"bk-logo bk-logo-small bk-logo-notebook\"></a>\n",
       "        <span id=\"674acef4-a94f-4730-a4af-9594b1b555bf\">Loading BokehJS ...</span>\n",
       "    </div>"
      ]
     },
     "metadata": {},
     "output_type": "display_data"
    },
    {
     "data": {
      "application/javascript": [
       "\n",
       "(function(root) {\n",
       "  function now() {\n",
       "    return new Date();\n",
       "  }\n",
       "\n",
       "  var force = true;\n",
       "\n",
       "  if (typeof (root._bokeh_onload_callbacks) === \"undefined\" || force === true) {\n",
       "    root._bokeh_onload_callbacks = [];\n",
       "    root._bokeh_is_loading = undefined;\n",
       "  }\n",
       "\n",
       "\n",
       "  \n",
       "  if (typeof (root._bokeh_timeout) === \"undefined\" || force === true) {\n",
       "    root._bokeh_timeout = Date.now() + 5000;\n",
       "    root._bokeh_failed_load = false;\n",
       "  }\n",
       "\n",
       "  var NB_LOAD_WARNING = {'data': {'text/html':\n",
       "     \"<div style='background-color: #fdd'>\\n\"+\n",
       "     \"<p>\\n\"+\n",
       "     \"BokehJS does not appear to have successfully loaded. If loading BokehJS from CDN, this \\n\"+\n",
       "     \"may be due to a slow or bad network connection. Possible fixes:\\n\"+\n",
       "     \"</p>\\n\"+\n",
       "     \"<ul>\\n\"+\n",
       "     \"<li>re-rerun `output_notebook()` to attempt to load from CDN again, or</li>\\n\"+\n",
       "     \"<li>use INLINE resources instead, as so:</li>\\n\"+\n",
       "     \"</ul>\\n\"+\n",
       "     \"<code>\\n\"+\n",
       "     \"from bokeh.resources import INLINE\\n\"+\n",
       "     \"output_notebook(resources=INLINE)\\n\"+\n",
       "     \"</code>\\n\"+\n",
       "     \"</div>\"}};\n",
       "\n",
       "  function display_loaded() {\n",
       "    if (root.Bokeh !== undefined) {\n",
       "      var el = document.getElementById(\"674acef4-a94f-4730-a4af-9594b1b555bf\");\n",
       "      if (el != null) {\n",
       "        el.textContent = \"BokehJS \" + Bokeh.version + \" successfully loaded.\";\n",
       "      }\n",
       "    } else if (Date.now() < root._bokeh_timeout) {\n",
       "      setTimeout(display_loaded, 100)\n",
       "    }\n",
       "  }\n",
       "\n",
       "\n",
       "  function run_callbacks() {\n",
       "    try {\n",
       "      root._bokeh_onload_callbacks.forEach(function(callback) { callback() });\n",
       "    }\n",
       "    finally {\n",
       "      delete root._bokeh_onload_callbacks\n",
       "    }\n",
       "    console.info(\"Bokeh: all callbacks have finished\");\n",
       "  }\n",
       "\n",
       "  function load_libs(js_urls, callback) {\n",
       "    root._bokeh_onload_callbacks.push(callback);\n",
       "    if (root._bokeh_is_loading > 0) {\n",
       "      console.log(\"Bokeh: BokehJS is being loaded, scheduling callback at\", now());\n",
       "      return null;\n",
       "    }\n",
       "    if (js_urls == null || js_urls.length === 0) {\n",
       "      run_callbacks();\n",
       "      return null;\n",
       "    }\n",
       "    console.log(\"Bokeh: BokehJS not loaded, scheduling load and callback at\", now());\n",
       "    root._bokeh_is_loading = js_urls.length;\n",
       "    for (var i = 0; i < js_urls.length; i++) {\n",
       "      var url = js_urls[i];\n",
       "      var s = document.createElement('script');\n",
       "      s.src = url;\n",
       "      s.async = false;\n",
       "      s.onreadystatechange = s.onload = function() {\n",
       "        root._bokeh_is_loading--;\n",
       "        if (root._bokeh_is_loading === 0) {\n",
       "          console.log(\"Bokeh: all BokehJS libraries loaded\");\n",
       "          run_callbacks()\n",
       "        }\n",
       "      };\n",
       "      s.onerror = function() {\n",
       "        console.warn(\"failed to load library \" + url);\n",
       "      };\n",
       "      console.log(\"Bokeh: injecting script tag for BokehJS library: \", url);\n",
       "      document.getElementsByTagName(\"head\")[0].appendChild(s);\n",
       "    }\n",
       "  };var element = document.getElementById(\"674acef4-a94f-4730-a4af-9594b1b555bf\");\n",
       "  if (element == null) {\n",
       "    console.log(\"Bokeh: ERROR: autoload.js configured with elementid '674acef4-a94f-4730-a4af-9594b1b555bf' but no matching script tag was found. \")\n",
       "    return false;\n",
       "  }\n",
       "\n",
       "  var js_urls = [\"https://cdn.pydata.org/bokeh/release/bokeh-0.12.7.min.js\", \"https://cdn.pydata.org/bokeh/release/bokeh-widgets-0.12.7.min.js\", \"https://cdn.pydata.org/bokeh/release/bokeh-tables-0.12.7.min.js\", \"https://cdn.pydata.org/bokeh/release/bokeh-gl-0.12.7.min.js\"];\n",
       "\n",
       "  var inline_js = [\n",
       "    function(Bokeh) {\n",
       "      Bokeh.set_log_level(\"info\");\n",
       "    },\n",
       "    \n",
       "    function(Bokeh) {\n",
       "      \n",
       "    },\n",
       "    \n",
       "    function(Bokeh) {\n",
       "      \n",
       "      document.getElementById(\"674acef4-a94f-4730-a4af-9594b1b555bf\").textContent = \"BokehJS is loading...\";\n",
       "    },\n",
       "    function(Bokeh) {\n",
       "      console.log(\"Bokeh: injecting CSS: https://cdn.pydata.org/bokeh/release/bokeh-0.12.7.min.css\");\n",
       "      Bokeh.embed.inject_css(\"https://cdn.pydata.org/bokeh/release/bokeh-0.12.7.min.css\");\n",
       "      console.log(\"Bokeh: injecting CSS: https://cdn.pydata.org/bokeh/release/bokeh-widgets-0.12.7.min.css\");\n",
       "      Bokeh.embed.inject_css(\"https://cdn.pydata.org/bokeh/release/bokeh-widgets-0.12.7.min.css\");\n",
       "      console.log(\"Bokeh: injecting CSS: https://cdn.pydata.org/bokeh/release/bokeh-tables-0.12.7.min.css\");\n",
       "      Bokeh.embed.inject_css(\"https://cdn.pydata.org/bokeh/release/bokeh-tables-0.12.7.min.css\");\n",
       "    }\n",
       "  ];\n",
       "\n",
       "  function run_inline_js() {\n",
       "    \n",
       "    if ((root.Bokeh !== undefined) || (force === true)) {\n",
       "      for (var i = 0; i < inline_js.length; i++) {\n",
       "        inline_js[i].call(root, root.Bokeh);\n",
       "      }if (force === true) {\n",
       "        display_loaded();\n",
       "      }} else if (Date.now() < root._bokeh_timeout) {\n",
       "      setTimeout(run_inline_js, 100);\n",
       "    } else if (!root._bokeh_failed_load) {\n",
       "      console.log(\"Bokeh: BokehJS failed to load within specified timeout.\");\n",
       "      root._bokeh_failed_load = true;\n",
       "    } else if (force !== true) {\n",
       "      var cell = $(document.getElementById(\"674acef4-a94f-4730-a4af-9594b1b555bf\")).parents('.cell').data().cell;\n",
       "      cell.output_area.append_execute_result(NB_LOAD_WARNING)\n",
       "    }\n",
       "\n",
       "  }\n",
       "\n",
       "  if (root._bokeh_is_loading === 0) {\n",
       "    console.log(\"Bokeh: BokehJS loaded, going straight to plotting\");\n",
       "    run_inline_js();\n",
       "  } else {\n",
       "    load_libs(js_urls, function() {\n",
       "      console.log(\"Bokeh: BokehJS plotting callback run at\", now());\n",
       "      run_inline_js();\n",
       "    });\n",
       "  }\n",
       "}(window));"
      ]
     },
     "metadata": {},
     "output_type": "display_data"
    }
   ],
   "source": [
    "import pandas as pd\n",
    "import os\n",
    "import numpy as np\n",
    "import logging\n",
    "import datetime\n",
    "import json\n",
    "import glob\n",
    "import matplotlib.pyplot as plt\n",
    "from bokeh.plotting import figure, show\n",
    "from bokeh.io import output_notebook\n",
    "from bokeh.models import FactorRange\n",
    "output_notebook()"
   ]
  },
  {
   "cell_type": "code",
   "execution_count": 3,
   "metadata": {
    "collapsed": true
   },
   "outputs": [],
   "source": [
    "#initialize dataframe\n",
    "df = []\n",
    "\n",
    "# create list of filenames from RawData folder, then iterate over that \n",
    "for root, dirs, files in os.walk(\"./RawData/\", topdown=False):\n",
    "    for name in files:\n",
    "        filename = os.path.join(root, name)\n",
    "        #print(filename[13:19])\n",
    "        if filename[13:19] == 'Stream':\n",
    "            file = open(filename, 'r')\n",
    "            tmp = file.read()\n",
    "            tmp = tmp.replace('}{', '}\\n{')\n",
    "            tmp = tmp.splitlines()\n",
    "        #print(tmp[1])\n",
    "            for record in tmp:\n",
    "                rec = json.loads('{' + record[1:-1] + '}')\n",
    "                #print(rec)\n",
    "                df.append(rec)\n",
    "        #tmp = pd.DataFrame(tmp)\n",
    "        #print(tmp.head())\n",
    "        \n",
    "df = pd.DataFrame(df) \n",
    "df = df.astype(str)\n"
   ]
  },
  {
   "cell_type": "markdown",
   "metadata": {},
   "source": [
    "#### Questions to answer:\n",
    "* Which authors got the most traffic\n",
    "* How much traffic comes from Facebook?\n",
    "* Which sites get the most/least traffic?\n",
    "* "
   ]
  },
  {
   "cell_type": "code",
   "execution_count": 4,
   "metadata": {},
   "outputs": [
    {
     "data": {
      "text/plain": [
       "authorKey        object\n",
       "contentKey       object\n",
       "pathRoot         object\n",
       "publishedDate    object\n",
       "referrer         object\n",
       "siteKey          object\n",
       "timeStamp        object\n",
       "userAgent        object\n",
       "userId           object\n",
       "userStatus       object\n",
       "dtype: object"
      ]
     },
     "execution_count": 4,
     "metadata": {},
     "output_type": "execute_result"
    }
   ],
   "source": [
    "df.dtypes"
   ]
  },
  {
   "cell_type": "code",
   "execution_count": 7,
   "metadata": {},
   "outputs": [
    {
     "data": {
      "text/plain": [
       "authorKey\n",
       "1000669260.0    1165277\n",
       "2818048.0        561954\n",
       "3499622411.0     452830\n",
       "1391919115.0     226335\n",
       "1636565004.0     200238\n",
       "4179755012.0     180155\n",
       "3192979458.0     161561\n",
       "2483814411.0     160892\n",
       "2846949388.0     143394\n",
       "2523529228.0     132452\n",
       "2605383692.0     131696\n",
       "2216099854.0     119360\n",
       "2099970060.0      96910\n",
       "4587520.0         94000\n",
       "38600715.0        77046\n",
       "2556166156.0      62951\n",
       "1711144974.0      60826\n",
       "1195900928.0      54312\n",
       "2409889804.0      50345\n",
       "1299447808.0      45459\n",
       "Name: pathRoot, dtype: int64"
      ]
     },
     "execution_count": 7,
     "metadata": {},
     "output_type": "execute_result"
    }
   ],
   "source": [
    "authors = df.authorKey.unique()\n",
    "top_20_authors = df.groupby('authorKey')['pathRoot'].count().sort_values(ascending = False).head(20)\n",
    "top_20_authors"
   ]
  },
  {
   "cell_type": "code",
   "execution_count": 11,
   "metadata": {},
   "outputs": [
    {
     "ename": "AttributeError",
     "evalue": "'Figure' object has no attribute 'bar'",
     "output_type": "error",
     "traceback": [
      "\u001b[0;31m---------------------------------------------------------------------------\u001b[0m",
      "\u001b[0;31mAttributeError\u001b[0m                            Traceback (most recent call last)",
      "\u001b[0;32m<ipython-input-11-b46f889be176>\u001b[0m in \u001b[0;36m<module>\u001b[0;34m()\u001b[0m\n\u001b[1;32m      2\u001b[0m \u001b[0mx_pos\u001b[0m \u001b[0;34m=\u001b[0m \u001b[0mnp\u001b[0m\u001b[0;34m.\u001b[0m\u001b[0marange\u001b[0m\u001b[0;34m(\u001b[0m\u001b[0mlen\u001b[0m\u001b[0;34m(\u001b[0m\u001b[0mtop_20_authors\u001b[0m\u001b[0;34m)\u001b[0m\u001b[0;34m)\u001b[0m\u001b[0;34m\u001b[0m\u001b[0m\n\u001b[1;32m      3\u001b[0m \u001b[0mplt\u001b[0m \u001b[0;34m=\u001b[0m \u001b[0mfigure\u001b[0m\u001b[0;34m(\u001b[0m\u001b[0;34m)\u001b[0m\u001b[0;34m\u001b[0m\u001b[0m\n\u001b[0;32m----> 4\u001b[0;31m \u001b[0mplt\u001b[0m\u001b[0;34m.\u001b[0m\u001b[0mbar\u001b[0m\u001b[0;34m(\u001b[0m\u001b[0mx_pos\u001b[0m\u001b[0;34m,\u001b[0m \u001b[0mtop_20_authors\u001b[0m\u001b[0;34m)\u001b[0m\u001b[0;34m\u001b[0m\u001b[0m\n\u001b[0m\u001b[1;32m      5\u001b[0m \u001b[0mplt\u001b[0m\u001b[0;34m.\u001b[0m\u001b[0mxticks\u001b[0m\u001b[0;34m(\u001b[0m\u001b[0mx_pos\u001b[0m\u001b[0;34m,\u001b[0m \u001b[0mtop_20_authors\u001b[0m\u001b[0;34m,\u001b[0m \u001b[0mrotation\u001b[0m \u001b[0;34m=\u001b[0m \u001b[0;34m'vertical'\u001b[0m\u001b[0;34m)\u001b[0m\u001b[0;34m\u001b[0m\u001b[0m\n\u001b[1;32m      6\u001b[0m \u001b[0mplt\u001b[0m\u001b[0;34m.\u001b[0m\u001b[0mxlabel\u001b[0m\u001b[0;34m(\u001b[0m\u001b[0;34m'Author ID'\u001b[0m\u001b[0;34m)\u001b[0m\u001b[0;34m\u001b[0m\u001b[0m\n",
      "\u001b[0;31mAttributeError\u001b[0m: 'Figure' object has no attribute 'bar'"
     ]
    }
   ],
   "source": [
    "#Which authors got the most traffic?\n",
    "x_pos = np.arange(len(top_20_authors))\n",
    "plt = figure()\n",
    "plt.bar(x_pos, top_20_authors)\n",
    "plt.xticks(x_pos, top_20_authors, rotation = 'vertical')\n",
    "plt.xlabel('Author ID')\n",
    "plt.ylabel('Page Views')\n",
    "plt.title('Top 20 Authors By Traffic -- 10/01/2017, 1:00 AM CDT')\n",
    "plt.show()"
   ]
  },
  {
   "cell_type": "code",
   "execution_count": 104,
   "metadata": {},
   "outputs": [
    {
     "data": {
      "text/plain": [
       "<Container object of 2 artists>"
      ]
     },
     "execution_count": 104,
     "metadata": {},
     "output_type": "execute_result"
    }
   ],
   "source": [
    "\n",
    "\n",
    "#compare timeseries plt of Guests vs. Registered Users\n",
    "num_registered = len(df.userStatus[df.userStatus == 'Registered'])\n",
    "num_guests = len(df.userStatus[df.userStatus == 'Guest'])\n",
    "\n",
    "user_types = ('Registered', 'Guest')\n",
    "x_pos = np.arange(len(user_types))\n",
    "\n",
    "plt.figure(1)\n",
    "plt.bar(x_pos, [num_registered, num_guests], align='center')\n"
   ]
  },
  {
   "cell_type": "code",
   "execution_count": 105,
   "metadata": {
    "scrolled": true
   },
   "outputs": [
    {
     "data": {
      "text/plain": [
       "array(['BOLT', '542801', 'GALLERY', 'CONTENTGALLERY', 'DISTRIBUTION',\n",
       "       '542802', '542803', 'VIDEO', 'LEAGUE', 'HOMEPAGE', 'ARTICLE',\n",
       "       'USER', 'INSTITUTION', 'HEADLINE', 'BOARD', 'STATGAME', 'TEAM',\n",
       "       'MY', '512360', 'IMAGE', '512361', '512362', '512363', '512364',\n",
       "       '512365', '512366', '512367', '512368', '512369', '512370',\n",
       "       '512371', '512372', '512373', '512374', '512375', '512376',\n",
       "       '512377', '512378', '512379', '512380', '512408', '512409',\n",
       "       '512410', '512411', '512412', '512413', '512414', '512415',\n",
       "       '512416', '512417', '512418', '675450', '675451', '675452',\n",
       "       '675453', '675454', '675455', '675456', '675457', '675458',\n",
       "       '675459', '675460', '675461', '675462', '675463', '675464',\n",
       "       '647575', '647576', '647577', '647578', '647579', '647580',\n",
       "       '647581', '647582', '647583', '647584', '647585', '647586',\n",
       "       '647587', '647588', '647589', 'POLL', 'PAGE', '598401', '542806',\n",
       "       '542807', '542808', '542809', '542810', '542811', '542812',\n",
       "       '542813', '542814', '542815', '542816', 'SITE', '542789', '542790',\n",
       "       '542791', '542792', '542793', '542794', '542795', '542796',\n",
       "       '542797', '542798', '542799', '542800', '542804', '542805',\n",
       "       'PLAYERSPORT', '675434', '675435', '675436', '675437', '675438',\n",
       "       '675439', '675440', '675441', '675442', '675443', '675444',\n",
       "       '675445', '675446', '675447', '675448', '675449', 'PLAYER',\n",
       "       '675465', '598406', '598408', '598409', '598410', '598411',\n",
       "       '598412', '598413', '598414', '598415', '598416', '598417',\n",
       "       '598418', '598419', '598420', '598422', '598421', '598423',\n",
       "       '598424', '598425', '598426', '598427', '598428', '598429',\n",
       "       '598430', '598431', '598432', '647590', '647591', '647592',\n",
       "       '647593', '647594', '647595', '647596', '647597', '647598',\n",
       "       '647599', '647600', '647601', '647602', '647603', '647604',\n",
       "       '685032', '584930', '584931', '584932', '584933', '584934',\n",
       "       '584935', '584936', '584937', '584938', '584939', '584940',\n",
       "       '584941', '584942', '584943', '584944', '584945', '584946',\n",
       "       '584947', '584948', '584949', '584950', '584951', '584952',\n",
       "       '584953', '584954', '584955', '584956', '584957', '584958',\n",
       "       '584959', '662065', '662066', '662067', '662068', '662069',\n",
       "       '662070', '662071', 'POWERRANKINGWEEK', '598407', '598404',\n",
       "       '598405', '584928', '584929', 'SEASON', '647605', '647606',\n",
       "       'USERSUBSCRIPTION', '685033', '685034', '685035',\n",
       "       'TOPHEADLINECONTAINER', '632669', '632670', '632671', '632672',\n",
       "       '632673', '632674', '632675', '632676', '632677', '632678',\n",
       "       '632679', '632680', '632681', '632682', '632683', '632684',\n",
       "       '632685', '632686', '632687', '632688', '632689', '632690',\n",
       "       '632691', '632692', '632693', '632694', '632695', '632696',\n",
       "       '632697', '632698', '632699', '632700', 'PRIVATEMESSAGE', '632668',\n",
       "       '662072', '662073', '662074', '662075', '662076', '662077',\n",
       "       '662078', '662079', '662080', '662081', '662082', '662083',\n",
       "       '662084', '662085', '662086', '662087', '662088', '662089',\n",
       "       '662090', '662091', '662092', '662093', '662094', '662095',\n",
       "       '662096', '619121', '619122', '619123', '619124', '619125',\n",
       "       '619126', '619127', '619128', '619129', '619130', '619131',\n",
       "       '619132', '619133', '619134', '619135', '619136', '619137',\n",
       "       '619138', '619139', '619140', '619141', '619142', '619143',\n",
       "       '619144', '619202', '619203', '619204', '619263', '619264',\n",
       "       '619330', '619331', '619351', '685036', '685037', '685039',\n",
       "       '685038', '685040', '694139', '694140', '694141', '694142',\n",
       "       '694143', '694144', '694145', '694146', '694147', '694148',\n",
       "       '694149', '694150', '694151', '598403', '598402', '577289',\n",
       "       '694120', '694121', '694122', '694123', '694124', '694125',\n",
       "       '694126', '694127', '694128', '694129', '694130', '694131',\n",
       "       '694132', '694133', '694134', '694135', '694136', '694137',\n",
       "       '694138', '533319', '685052', '685053', '685054', '685055',\n",
       "       '685056', '685057', '685058', '685059', '685060', '685061',\n",
       "       '685062', 'TRANSLATE_C', '685041', '685042', '685043', '685044',\n",
       "       '685045', '685046', '685047', '685048', '685049', '685050',\n",
       "       '685051', '685063', '577290', '577291', '577292', '577293',\n",
       "       '577294', '577295', '577296', '577297', '577298', '577299',\n",
       "       '577300', '577301', '577302', '577303', '577304', '577305',\n",
       "       '577306', '577307', '577308', '577309', '577310', '577311',\n",
       "       '577312', '577313', '577314', '577315', '571997', '571906',\n",
       "       '571909', '571902', '571899', '571911', '571907', '571942',\n",
       "       '571901', '571903', '571994', '571904', '571975', '571960',\n",
       "       '571998', '571978', '571923', '571924', '571922', '571913',\n",
       "       '571921', '571910', '571999', '571952', '571908', '571995',\n",
       "       '571996', '571912', '571898', '542817', '542818', '542819',\n",
       "       '542820', 'L.PHP', 'SPORT', '588603', '588604', '588605', '588606',\n",
       "       '588607', '588608', '588609', '588610', '588611', '588612',\n",
       "       '588613', '588614', '588615', '588616', '588617', '588618',\n",
       "       '588619', '588620', '588621', '588622', '588623', '588624',\n",
       "       '588625', '588626', '588627', '588628', '588629', '610747',\n",
       "       '610748', '610749', '610750', '610751', '610752', '588598',\n",
       "       '588599', '588600', '588601', '588602', '610702', '610703',\n",
       "       '610704', '610705', '610706', '610707', '610708', '610709',\n",
       "       '610710', '610711', '610712', '610713', '610714', '610715',\n",
       "       '610716', '610717', '610725', '610726', '610727', '610728',\n",
       "       '610729', '610742', '610743', '610744', '610745', '610746',\n",
       "       '595285', '595286', '595287', '595288', '587494', '587495',\n",
       "       '587496', '587497', '587498', '587499', '587500', '587501',\n",
       "       '587502', '595257', '595258', '595259', '595260', '595261',\n",
       "       '595262', '595263', '595264', '595265', '595266', '595267',\n",
       "       '595268', '595269', '595270', '595271', '595272', '595273',\n",
       "       '595274', '595275', '595276', '595277', '595278', '595279',\n",
       "       '595280', '595281', '595282', '595283', '595284', '587503',\n",
       "       '587504', '587505', '587506', '587507', '587508', '587509',\n",
       "       '587510', '587511', '587512', '587513', '587514', '587515',\n",
       "       '587516', '587517', '587518', '587519', '587520', '587521',\n",
       "       '587522', '587523', '587524', '587525', '577316', '577317',\n",
       "       '577318', '577319', '577320', '675126', '571900', '571905',\n",
       "       '571920', '552375', '552376', '552377', '552378', '552379',\n",
       "       '552380', '552381', '552382', '552383', '552384', '552385',\n",
       "       '552386', '552387', '552388', '552389', '552390', '552391',\n",
       "       '552392', '552393', '552394', '552395', '552396', '552397',\n",
       "       '552398', '552399', '552400', '552401', '552402', '552403',\n",
       "       '552404', '675127', '675128', '675129', '675130', '675131',\n",
       "       '675132', '675133', '675134', '675135', '675136', '675137',\n",
       "       '675138', '675139', '675140', '675141', '675142', '675143',\n",
       "       '675144', '675145', '675146', '675147', '675148', '675149',\n",
       "       '675150', '675151', '675152', '675153', '675154', '675155',\n",
       "       '675156', '675157', '621579', '706286', '706287', '706288',\n",
       "       '706292', '706293'], dtype=object)"
      ]
     },
     "execution_count": 105,
     "metadata": {},
     "output_type": "execute_result"
    }
   ],
   "source": [
    "df.pathRoot.unique()"
   ]
  },
  {
   "cell_type": "code",
   "execution_count": 85,
   "metadata": {},
   "outputs": [
    {
     "data": {
      "text/plain": [
       "array(['http://m.facebook.com', 'https://www.facebook.com/', None, ...,\n",
       "       'https://nep.247sports.com/Bolt/New-England-Patriots-to-stand-hand-over-heart-for-national-anthe-108273441?utm_source=247Sports%20Newsletter&utm_medium=Newsletter&utm_campaign=171001_104332_New%20England%20Patriots%20Newsletter&utm_content=Image&liveconnect=02-BD-6C-BD-4A-0B-C3-57-D5-00-09-67-B6-B1-4E-46171001_104332NewEnglandPatriotsNewsletter',\n",
       "       'http://www.google.com/url?sa=t&rct=j&q=&esrc=s&source=web&cd=8&ved=0ahUKEwi92YWBwNDWAhUW3WMKHSFnADgQFghYMAc&url=http%3A%2F%2Foak.247sports.com%2FBolt%2FOakland-Raiders-Denver-Broncos-Tony-Romo-Jim-Nantz-announcing-ga-108070090&usg=AOvVaw1R92ZFaJC8hB-_ZE9Zozjo',\n",
       "       'https://lm.facebook.com/l.php?u=https%3A%2F%2Fmin.247sports.com%2FBolt%2FDalvin-Cook-Minnesota-Vikings-has-nearly-complete-ACL-tear-108295252&h=ATOAaTJax8LTAwAOWvhNPpC-wOJfPepRp3cWY32H73NzBBHdqr6HvX7aCpS7d76fJh_UO9Zn9bOByrQDWa3ubLQfdRLgeC7cW8BZvAV3MKJzQ7fWM3aLbAfXFIQPnWtxO3rE6jXX&enc=AZN9Lz_HoTbBW12N9cWmSAWvNNBBaizrVC_TE8zF0T5YERRvLlPf8uZvPH5DMmx8aKKjCRZC0AYjAbcCiGDIjvA7kJp0hYW-gfMKs3F8xPEFYO-6MeL4o9ogd4oPY20zhNwyK5wC-vrarad7Aad2di9XOyLwaJ2jKlx2rsUspCg7yf7DtLzus0-VJk6sJxghLhxNPV_tSe7IMq0Ds-eo0ru5nR-PxYR5Q4CIWCFlo5-Jf4xqDnqYJOk6Oxc7sXzmqfeV0tT36WLZSh9_8EiZvtXQUQNIYHVFdWKvI5zI_Rscj4rm_DwI5YFWxeBPx-97JKyVPdDga21reqhrjbOScnUJKA9OsbBIZNAeCnEzipAwMA&s=1'], dtype=object)"
      ]
     },
     "execution_count": 85,
     "metadata": {},
     "output_type": "execute_result"
    }
   ],
   "source": [
    "df['referrer'].unique()"
   ]
  },
  {
   "cell_type": "raw",
   "metadata": {},
   "source": [
    "temp_df"
   ]
  },
  {
   "cell_type": "code",
   "execution_count": null,
   "metadata": {
    "collapsed": true
   },
   "outputs": [],
   "source": []
  },
  {
   "cell_type": "code",
   "execution_count": null,
   "metadata": {
    "collapsed": true
   },
   "outputs": [],
   "source": []
  },
  {
   "cell_type": "code",
   "execution_count": null,
   "metadata": {
    "collapsed": true
   },
   "outputs": [],
   "source": []
  },
  {
   "cell_type": "code",
   "execution_count": null,
   "metadata": {
    "collapsed": true
   },
   "outputs": [],
   "source": []
  },
  {
   "cell_type": "code",
   "execution_count": null,
   "metadata": {
    "collapsed": true
   },
   "outputs": [],
   "source": []
  },
  {
   "cell_type": "code",
   "execution_count": null,
   "metadata": {
    "collapsed": true
   },
   "outputs": [],
   "source": []
  }
 ],
 "metadata": {
  "kernelspec": {
   "display_name": "Python 3",
   "language": "python",
   "name": "python3"
  },
  "language_info": {
   "codemirror_mode": {
    "name": "ipython",
    "version": 3
   },
   "file_extension": ".py",
   "mimetype": "text/x-python",
   "name": "python",
   "nbconvert_exporter": "python",
   "pygments_lexer": "ipython3",
   "version": "3.6.3"
  }
 },
 "nbformat": 4,
 "nbformat_minor": 2
}
